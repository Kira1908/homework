{
 "cells": [
  {
   "cell_type": "code",
   "execution_count": 61,
   "metadata": {
    "scrolled": true
   },
   "outputs": [
    {
     "name": "stdout",
     "output_type": "stream",
     "text": [
      "user_id,source,category\n",
      "1840e0b9d4,other,Продукты\n",
      "4e4f90fcfb,context,Электроника\n",
      "afea8d72fc,other,Электроника\n",
      "2824221f38,email,Продукты\n",
      "373a6055fe,other,Бытовая техника\n",
      "\n",
      "Всего 13798 пользователей совершили покупки\n"
     ]
    }
   ],
   "source": [
    "# Переведите содержимое файла purchase_log.txt в словарь purchases вида:\n",
    "# {‘1840e0b9d4’: ‘Продукты’, …}\n",
    "\n",
    "# Для каждого user_id в файле visit_log.csv определите третий столбец с категорией покупки (если покупка была, сам файл visit_log.csv изменять не надо). Запишите в файл funnel.csv визиты из файла visit_log.csv, в которых были покупки с указанием категории.\n",
    "# Учтите условия на данные:\n",
    "# содержимое purchase_log.txt помещается в оперативную память компьютера\n",
    "# содержимое visit_log.csv - нет; используйте только построчную обработку этого файла\n",
    "\n",
    "import json\n",
    "\n",
    "purchase = {}\n",
    "with open('purchase_log.txt', encoding = 'utf-8') as f1:\n",
    "    for line1 in f1:\n",
    "        dict_ = json.loads(line1.strip())\n",
    "        purchase.setdefault(dict_['user_id'], dict_['category'])\n",
    "\n",
    "with open('visit_log.csv', 'r') as f2, open('funnel.csv', 'w') as f3:\n",
    "    for line2 in f2:\n",
    "        visit = line2.strip().split(',')\n",
    "        if visit[0] in purchase.keys():\n",
    "            visit.append(purchase[visit[0]])\n",
    "            line3 = ','.join(visit)\n",
    "            f3.write(line3+'\\n')\n",
    "            \n",
    "# Выведем на экран первые строки файла funnel.csv\n",
    "with open('funnel.csv', 'r') as f3:\n",
    "    i = 0\n",
    "    for line3 in f3:\n",
    "        print(line3.strip())\n",
    "            \n",
    "        i +=1\n",
    "        if i > 5:\n",
    "            break\n",
    "# Количество строк в файле funnel.csv\n",
    "with open('funnel.csv', 'r') as f3:\n",
    "    count = -1\n",
    "    for line3 in f3:\n",
    "        count += 1\n",
    "    print('')\n",
    "    print(f'Всего {count} пользователей совершили покупки')"
   ]
  }
 ],
 "metadata": {
  "kernelspec": {
   "display_name": "Python 3",
   "language": "python",
   "name": "python3"
  },
  "language_info": {
   "codemirror_mode": {
    "name": "ipython",
    "version": 3
   },
   "file_extension": ".py",
   "mimetype": "text/x-python",
   "name": "python",
   "nbconvert_exporter": "python",
   "pygments_lexer": "ipython3",
   "version": "3.8.5"
  }
 },
 "nbformat": 4,
 "nbformat_minor": 4
}
