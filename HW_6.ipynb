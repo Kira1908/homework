{
 "cells": [
  {
   "cell_type": "code",
   "execution_count": 16,
   "metadata": {},
   "outputs": [
    {
     "name": "stdout",
     "output_type": "stream",
     "text": [
      "2002-10-02 00:00:00\n",
      "2013-10-11 00:00:00\n",
      "1978-08-18 00:00:00\n"
     ]
    }
   ],
   "source": [
    "from datetime import datetime\n",
    "\n",
    "The_Moscow_Times = 'Wednesday, October 2, 2002'\n",
    "The_Guardian = 'Friday, 11.10.13'\n",
    "Daily_News = 'Thursday, 18 August 1978'\n",
    "\n",
    "The_Moscow_Times_datetime = datetime.strptime(The_Moscow_Times, '%A, %B %d, %Y')\n",
    "The_Guardian_datetime = datetime.strptime(The_Guardian, '%A, %d.%m.%y')\n",
    "Daily_News_datetime = datetime.strptime(Daily_News, '%A, %d %B %Y')\n",
    "\n",
    "print(The_Moscow_Times_datetime)\n",
    "print(The_Guardian_datetime)\n",
    "print(Daily_News_datetime)"
   ]
  },
  {
   "cell_type": "code",
   "execution_count": 2,
   "metadata": {},
   "outputs": [
    {
     "name": "stdout",
     "output_type": "stream",
     "text": [
      "2018-04-02 True\n",
      "2018-02-29 False\n",
      "2018-19-02 False\n"
     ]
    }
   ],
   "source": [
    "stream = ['2018-04-02', '2018-02-29', '2018-19-02']\n",
    "\n",
    "def check_correct():\n",
    "    for date_of_stream in stream:\n",
    "        try:\n",
    "            date_of_stream_datetime = datetime.strptime(date_of_stream, '%Y-%m-%d')   \n",
    "            print(date_of_stream, True)\n",
    "        except:\n",
    "            print(date_of_stream, False)\n",
    "            \n",
    "check_correct()"
   ]
  },
  {
   "cell_type": "code",
   "execution_count": 17,
   "metadata": {
    "scrolled": false
   },
   "outputs": [
    {
     "name": "stdout",
     "output_type": "stream",
     "text": [
      "Введите дату начала в формате YYYY-MM-DD: 2020-10-01\n",
      "Введите дату окончания в формате YYYY-MM-DD: 2020-10-10\n",
      "2020-10-01\n",
      "2020-10-02\n",
      "2020-10-03\n",
      "2020-10-04\n",
      "2020-10-05\n",
      "2020-10-06\n",
      "2020-10-07\n",
      "2020-10-08\n",
      "2020-10-09\n",
      "2020-10-10\n"
     ]
    }
   ],
   "source": [
    "from datetime import timedelta\n",
    "\n",
    "def date_range(start_date = input('Введите дату начала в формате YYYY-MM-DD: '), end_date = input('Введите дату окончания в формате YYYY-MM-DD: ')):\n",
    "    try:\n",
    "        start_date_dt = datetime.strptime(start_date, '%Y-%m-%d')\n",
    "        end_date_dt = datetime.strptime(end_date, '%Y-%m-%d')\n",
    "\n",
    "        while start_date_dt <= end_date_dt:\n",
    "            print(start_date_dt.strftime('%Y-%m-%d'))\n",
    "            start_date_dt += timedelta(days=1)\n",
    "    except:\n",
    "        print('')\n",
    "\n",
    "date_range()"
   ]
  },
  {
   "cell_type": "code",
   "execution_count": 136,
   "metadata": {},
   "outputs": [
    {
     "data": {
      "text/plain": [
       "'A103'"
      ]
     },
     "execution_count": 136,
     "metadata": {},
     "output_type": "execute_result"
    }
   ],
   "source": [
    "def delete_and_return_last_user(region, default_list = ['A100', 'A101', 'A102', 'A103', 'A104']):\n",
    "    element_to_delete = default_list[-1]\n",
    "    default_list.remove(element_to_delete)\n",
    "    DEFAULT_USER_COUNT = len(default_list)\n",
    "    return default_list[DEFAULT_USER_COUNT-1]\n",
    "\n",
    "delete_and_return_last_user(1)\n",
    "\n",
    "# Что значит ошибка list index out of range? - в списке нет элемента с таким индексом\n",
    "# Почему при первом запуске функция работает корректно, а при втором - нет? - т.к. длина списка прописана вне функции,\n",
    "# ее величина - постояное значение. Фунция возвращала предпоследний элемент нового списка."
   ]
  }
 ],
 "metadata": {
  "kernelspec": {
   "display_name": "Python 3",
   "language": "python",
   "name": "python3"
  },
  "language_info": {
   "codemirror_mode": {
    "name": "ipython",
    "version": 3
   },
   "file_extension": ".py",
   "mimetype": "text/x-python",
   "name": "python",
   "nbconvert_exporter": "python",
   "pygments_lexer": "ipython3",
   "version": "3.8.5"
  }
 },
 "nbformat": 4,
 "nbformat_minor": 4
}
