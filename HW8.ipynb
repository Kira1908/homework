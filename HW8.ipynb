{
 "cells": [
  {
   "cell_type": "code",
   "execution_count": 3,
   "metadata": {},
   "outputs": [
    {
     "name": "stdout",
     "output_type": "stream",
     "text": [
      "Введите номер машины без пробелов, чтобы узнать валиден ли он: А222ВС96\n",
      "Номер А222ВС валиден. Регион: 96\n"
     ]
    }
   ],
   "source": [
    "# Задание 1\n",
    "# Напишите функцию, которая принимает на вход строку и проверяет является ли она валидным транспортным номером \n",
    "# (1 буква, 3 цифры, 2 буквы, 2-3 цифры). Обратите внимание, что не все буквы кириллического алфавита \n",
    "# используются в транспортных номерах.\n",
    "# Если номер валиден, то функция должна возвращать отдельно номер и регион.\n",
    "# Примеры работы программы: \n",
    "# car_id = 'А222ВС96’ # Результат: Номер А222BС валиден. Регион: 96\n",
    "# car_id = 'АБ22ВВ193’ # Результат: Номер не валиден\n",
    "\n",
    "import re\n",
    "\n",
    "def car_id(number = input('Введите номер машины без пробелов, чтобы узнать валиден ли он: ')):\n",
    "    if re.match(r'[АВЕКМНОРСТУХ]\\d{3}[АВЕКМНОРСТУХ]{2}\\d{2,3}', number) is not None:\n",
    "        num_ = re.findall(r'[АВЕКМНОРСТУХ]\\d{3}[АВЕКМНОРСТУХ]{2}', number)[0]\n",
    "        region = re.findall(r'(?<=[АВЕКМНОРСТУХ]\\d{3}[АВЕКМНОРСТУХ]{2})\\d{2,3}', number)[0]\n",
    "        print(f'Номер {num_} валиден. Регион: {region}')\n",
    "    else:\n",
    "        print('Номер не валиден')\n",
    "\n",
    "car_id()\n",
    "\n",
    "# работающие функции\n",
    "# print(re.findall(r'[АВЕКМНОРСТУХ]\\d{3}[АВЕКМНОРСТУХ]{2}\\d{2,3}', number))\n",
    "# print(re.findall(r'[АВЕКМНОРСТУХ]\\d{3}[АВЕКМНОРСТУХ]{2}', number))\n",
    "# print(re.findall(r'(?<=[АВЕКМНОРСТУХ]\\d{3}[АВЕКМНОРСТУХ]{2})\\d{2,3}', number))"
   ]
  },
  {
   "cell_type": "code",
   "execution_count": 105,
   "metadata": {
    "scrolled": true
   },
   "outputs": [
    {
     "data": {
      "text/plain": [
       "'Напишите функцию которая будет удалять все последовательные повторы слов из заданной строки при помощи регулярных выражений'"
      ]
     },
     "execution_count": 105,
     "metadata": {},
     "output_type": "execute_result"
    }
   ],
   "source": [
    "# Задание 2\n",
    "# Напишите функцию, которая будет удалять все последовательные повторы слов из заданной строки при помощи регулярных выражений.\n",
    "\n",
    "def clear_repeat(some_string):    \n",
    "    return re.sub(r'\\b([^\\W\\d_]+)(\\s+\\1)+\\b', r'\\1', re.sub(r'\\W+', ' ', some_string).strip(), flags=re.I)\n",
    "clear_repeat('Напишите функцию функцию, которая будет будет будет будет удалять все все все все последовательные повторы слов из из из из заданной строки строки при помощи регулярных выражений')"
   ]
  },
  {
   "cell_type": "code",
   "execution_count": 43,
   "metadata": {},
   "outputs": [
    {
     "name": "stdout",
     "output_type": "stream",
     "text": [
      "Узнайте акроним: Near Field Communication\n"
     ]
    },
    {
     "data": {
      "text/plain": [
       "'NFC'"
      ]
     },
     "execution_count": 43,
     "metadata": {},
     "output_type": "execute_result"
    }
   ],
   "source": [
    "# Задание 3\n",
    "# Напишите функцию, которая будет возвращать акроним по переданной в нее строке со словами.\n",
    "# Примеры работы программы:\n",
    "# some_words = 'Информационные технологии’ # Результат: ИТ\n",
    "# some_words = 'Near Field Communication’ # Результат: NFC\n",
    "\n",
    "some_words = 'Информационные технологии'\n",
    "def acronim(some_words = input('Узнайте акроним: ')):\n",
    "    list_ = re.findall(r'\\b\\w', some_words)\n",
    "    acronim = ''.join(list_)\n",
    "    return acronim.upper()\n",
    "       \n",
    "acronim()"
   ]
  },
  {
   "cell_type": "code",
   "execution_count": 31,
   "metadata": {},
   "outputs": [
    {
     "name": "stdout",
     "output_type": "stream",
     "text": [
      "test.in : 1\n",
      "ya.ru : 2\n",
      "gmail.com : 2\n",
      "mail.ru : 1\n"
     ]
    }
   ],
   "source": [
    "# Задание 4\n",
    "# Напишите функцию, которая будет принимать на вход список email-адресов и выводить их распределение по доменным зонам.\n",
    "# gmail.com: 2 \n",
    "# test.in: 1 \n",
    "# ya.ru: 2  \n",
    "# mail.ru: 1\n",
    "emails = ['test@gmail.com', 'xyz@test.in', 'test@ya.ru', 'xyz@mail.ru', 'xyz@ya.ru', 'xyz@gmail.com']\n",
    "\n",
    "all_domen = []\n",
    "for i in emails:\n",
    "    domen_name = re.findall(r'(?<=@)\\w*\\.\\w{2,3}', i)[0]\n",
    "    all_domen.append(domen_name)\n",
    "\n",
    "uniq_domen = set(all_domen)\n",
    "    \n",
    "for j in uniq_domen:\n",
    "    print(j,':', all_domen.count(j))"
   ]
  },
  {
   "cell_type": "code",
   "execution_count": null,
   "metadata": {},
   "outputs": [],
   "source": [
    "# Задание 5 (необязательное)\n",
    "# Напишите функцию, которая будет подсчитывать сколько слов начинается на гласные, а сколько на согласные буквы в тексте (текст может быть написан как с использованием букв кириллицы, так и латиницы).\n",
    "# Пример работы программы:\n",
    "# some_text = ‘Эталонной реализацией Python является интерпретатор CPython, поддерживающий большинство активно используемых платформ. Он распространяется под свободной лицензией Python Software Foundation License, позволяющей использовать его без ограничений в любых приложениях, включая проприетарные.’\n",
    "# Результат:\n",
    "# Слов на гласные буквы: 9\n",
    "# Слов на согласные буквы: 21\n"
   ]
  },
  {
   "cell_type": "code",
   "execution_count": null,
   "metadata": {},
   "outputs": [],
   "source": [
    "# Задание 6 (необязательное)\n",
    "# Напишите функцию, которая будет проверять номер сотового телефона на валидность, если он валиден, то переводить его в формат:\n",
    "# +7-xxx-xxx-xx-xx\n",
    "# Постарайтесь предусмотреть как можно больше адекватных форматов изначального ввода номера. Примеры работы программы:\n",
    "# phone = '+7 955 555-55-55’\n",
    "# Результат: +7-950-555-55-55\n",
    "# phone = '8(955)555-55-55’\n",
    "# Результат: +7-950-555-55-55\n",
    "# phone = '+7 955 555 55 55’\n",
    "# Результат: +7-950-555-55-55\n",
    "# phone = '7(955) 555-55-55’\n",
    "# Результат: +7-950-555-55-55\n",
    "# phone = '423-555-55-5555’\n",
    "# Результат: Номер не валиден\n",
    "# phone = '123-456-789’\n",
    "# Результат: Номер не валиден"
   ]
  }
 ],
 "metadata": {
  "kernelspec": {
   "display_name": "Python 3",
   "language": "python",
   "name": "python3"
  },
  "language_info": {
   "codemirror_mode": {
    "name": "ipython",
    "version": 3
   },
   "file_extension": ".py",
   "mimetype": "text/x-python",
   "name": "python",
   "nbconvert_exporter": "python",
   "pygments_lexer": "ipython3",
   "version": "3.8.5"
  }
 },
 "nbformat": 4,
 "nbformat_minor": 4
}
