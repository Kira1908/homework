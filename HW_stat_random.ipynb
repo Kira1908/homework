{
 "cells": [
  {
   "cell_type": "code",
   "execution_count": 267,
   "metadata": {},
   "outputs": [
    {
     "name": "stdout",
     "output_type": "stream",
     "text": [
      "Вероятность выигрыша, сумма выигрыша|проигрыша за 1 игру, руб  0.293\n",
      "В среднем за игру игрок выигрывает или проигрывает (если значение отрицательное)  293 при бюджете 1000\n"
     ]
    }
   ],
   "source": [
    "# Смоделировать игру против лотерейного автомата типа “777”. # Игрок платит 1 руб., после чего выпадает случайное целое число, \n",
    "# равномерно распределенное от 0 до 999.# При некоторых значениях числа игрок получает выигрыш.\n",
    "# 777: 200 руб.\n",
    "# 999: 100 руб.\n",
    "# 555: 50 руб.\n",
    "# 333: 15 руб.\n",
    "# 111: 10 руб.\n",
    "# *77: 5 руб.\n",
    "# **7: 3 руб.\n",
    "# *00: 2 руб.\n",
    "# **0: 1 руб.\n",
    "# Вопросы: 1. Выгодна ли игра игроку? 2. Сколько в среднем приобретает или теряет игрок за одну игру?\n",
    "# **Дополнительное задание повышенной сложности. Теоретически рассчитать средний выигрыш (проигрыш) и сравнить с результатами моделирования\n",
    "\n",
    "import numpy as np\n",
    "\n",
    "trials = 1000    # Количество попыток \\ бюджет игры\n",
    "successes = 0    # сумма выигрыша\n",
    "loss = 0    # сумма потерь\n",
    "cost = 1   # цена одной попытки\n",
    "\n",
    "for i in range(trials):\n",
    "\n",
    "    int1 = str(np.random.randint(0, 10))\n",
    "    int2 = str(np.random.randint(0, 10))\n",
    "    int3 = str(np.random.randint(0, 10))\n",
    "    result_int = int1 + int2 + int3\n",
    "    \n",
    "    if result_int == '777':\n",
    "        successes += 200\n",
    "    if result_int == '999':\n",
    "        successes += 100\n",
    "    if result_int == '555':\n",
    "        successes += 50\n",
    "    if result_int == '333':\n",
    "        successes += 15\n",
    "    if result_int == '111':\n",
    "        successes += 10\n",
    "    if int(result_int) % 100 == 77 and result_int != '777':\n",
    "        successes += 5\n",
    "    if int(result_int) % 10 == 7 and result_int != '777' and int(result_int) % 100 != 77:\n",
    "        successes += 5\n",
    "    if int(result_int) % 100 == 0:\n",
    "        successes += 2\n",
    "    if int(result_int) % 10 == 0:\n",
    "        successes += 1\n",
    "    else:\n",
    "        loss += cost\n",
    "    \n",
    "\n",
    "p_monte_carlo = (successes - loss) / trials\n",
    "result = successes - loss\n",
    "\n",
    "print('Вероятность выигрыша, сумма выигрыша|проигрыша за 1 попытку, руб ', p_monte_carlo)\n",
    "print('В среднем за игру игрок выигрывает или проигрывает (если значение отрицательное) ', result, 'при бюджете', trials)\n"
   ]
  }
 ],
 "metadata": {
  "kernelspec": {
   "display_name": "Python 3",
   "language": "python",
   "name": "python3"
  },
  "language_info": {
   "codemirror_mode": {
    "name": "ipython",
    "version": 3
   },
   "file_extension": ".py",
   "mimetype": "text/x-python",
   "name": "python",
   "nbconvert_exporter": "python",
   "pygments_lexer": "ipython3",
   "version": "3.8.5"
  }
 },
 "nbformat": 4,
 "nbformat_minor": 4
}
