{
 "cells": [
  {
   "cell_type": "code",
   "execution_count": 4,
   "metadata": {},
   "outputs": [
    {
     "name": "stdout",
     "output_type": "stream",
     "text": [
      "Фраза 1 длинее фразы 2\n"
     ]
    }
   ],
   "source": [
    "phrase_1 = 'Насколько проще было бы писать программы, если бы не заказчики'\n",
    "phrase_2 = '640Кб должно хватить для любых задач. Билл Гейтс (по легенде)'\n",
    "\n",
    "if len(phrase_2) < len(phrase_1):\n",
    "    print('Фраза 1 длинее фразы 2')"
   ]
  },
  {
   "cell_type": "code",
   "execution_count": 2,
   "metadata": {},
   "outputs": [
    {
     "name": "stdout",
     "output_type": "stream",
     "text": [
      "обычный год\n"
     ]
    }
   ],
   "source": [
    "year = 2100\n",
    "\n",
    "if year % 400 == 0:\n",
    "    print('високосный год')\n",
    "elif year % 100 == 0:\n",
    "    print('обычный год')\n",
    "elif year % 4 == 0:\n",
    "    print('високосный год')\n",
    "else:\n",
    "    print('обычный год')"
   ]
  },
  {
   "cell_type": "code",
   "execution_count": 15,
   "metadata": {},
   "outputs": [
    {
     "name": "stdout",
     "output_type": "stream",
     "text": [
      "Box for ski\n"
     ]
    }
   ],
   "source": [
    "width = 10\n",
    "length = 205\n",
    "height = 5\n",
    "\n",
    "if width < 15 and length < 15 and height < 15:\n",
    "    print('Box 1')\n",
    "elif width < 50 and width > 15:\n",
    "    print('Box 2')\n",
    "elif length < 50 and length > 15:\n",
    "    print('Box 2')\n",
    "elif height < 50 and height > 15:\n",
    "    print('Box 2')\n",
    "elif length > 200:\n",
    "    print('Box for ski')\n",
    "else:\n",
    "    print('Standard box')"
   ]
  },
  {
   "cell_type": "code",
   "execution_count": 17,
   "metadata": {},
   "outputs": [
    {
     "name": "stdout",
     "output_type": "stream",
     "text": [
      "введите день 5\n",
      "введите месяц Август\n",
      "Лев\n"
     ]
    }
   ],
   "source": [
    "date = int(input('введите день '))\n",
    "month = str(input('введите месяц '))\n",
    "\n",
    "if (date >= 21 and date <= 18 and month == 'Март') or (month == 'Апрель' and date >= 1 and date <= 19):\n",
    "    print(\"Овен\")\n",
    "elif (date >= 20 and date <=30 and month == 'Апрель') or (month == 'Май' and date >= 1 and date <= 20):\n",
    "    print(\"Телец\")\n",
    "elif (date >= 21 and date <= 31 and month == 'Май') or (month == 'Июнь' and date >= 1 and date <= 21):\n",
    "    print(\"Близнецы\")\n",
    "elif (date >= 22 and date <= 30 and month == 'Июнь') or (month == 'Июль' and date >= 1 and date <= 22):\n",
    "    print(\"Рак\")\n",
    "elif (date >= 23 and date <=31 and month == 'Июль') or (month == 'Август' and date >= 1 and date <= 22):\n",
    "    print(\"Лев\")\n",
    "elif (date >= 23 and date <= 31 and month == 'Август') or (month == 'Сентябрь' and date >= 1 and date <= 22):\n",
    "    print(\"Дева\")\n",
    "elif (date >= 23 and date <= 30 and month == 'Сентябрь') or (month == 'Октябрь' and date >= 1 and date <= 23):\n",
    "    print(\"Весы\")\n",
    "elif (date >= 24 and date <= 31 and month == 'Октябрь') or (month == 'Ноябрь' and date >= 1 and date <= 22):\n",
    "    print(\"Скорпион\")\n",
    "elif (date >= 23 and date <= 30 and month == 'Ноябрь') or (month == 'Декабрь' and date >= 1 and date <= 21):\n",
    "    print(\"Стрелец\")\n",
    "elif (date >= 22 and date <= 31 and month == 'Декабрь') or (month == 'Январь' and date >= 1 and date <= 20):\n",
    "    print(\"Козерог\")\n",
    "elif (date >= 21 and date <= 31 and month =='Январь') or (month == 'Февраль' and date >= 1 and date <= 18):\n",
    "    print(\"Водолей\")\n",
    "elif (date >= 19 and date <= 29 and month == 'Февраль') or (month == 'Март' and date >= 1 and date <= 20):\n",
    "    print(\"Рыбы\")\n",
    "else:\n",
    "    print(\"Введено неверно\")\n"
   ]
  },
  {
   "cell_type": "code",
   "execution_count": 13,
   "metadata": {},
   "outputs": [
    {
     "name": "stdout",
     "output_type": "stream",
     "text": [
      "Счастливый билет\n"
     ]
    }
   ],
   "source": [
    "number = '123033'\n",
    "\n",
    "first = int(number[0]) + int(number[1]) + int(number[2])\n",
    "second = int(number[-1]) + int(number[-2]) + int(number[-3])\n",
    "\n",
    "if first == second:\n",
    "    print('Счастливый билет')\n",
    "else:\n",
    "    print('Обычный билет')"
   ]
  },
  {
   "cell_type": "code",
   "execution_count": 26,
   "metadata": {},
   "outputs": [
    {
     "name": "stdout",
     "output_type": "stream",
     "text": [
      "Введите фигуру: Прямоугольник\n",
      "Введите длину: 5\n",
      "Введите ширину: 7\n",
      "Площадь прямоугольника: \n",
      "35\n"
     ]
    }
   ],
   "source": [
    "import numpy\n",
    "\n",
    "figure = str(input('Введите фигуру: '))\n",
    "\n",
    "if figure == 'Прямоугольник':\n",
    "    rect_1 = int(input('Введите длину: '))\n",
    "    rect_2 = int(input('Введите ширину: '))\n",
    "    S_rect = rect_1 * rect_2\n",
    "    print('Площадь прямоугольника: ')\n",
    "    print(S_rect)\n",
    "    \n",
    "elif figure == 'Круг':\n",
    "    radius = int(input('Введите радиус: '))\n",
    "    S_krug = numpy.pi * radius ** 2\n",
    "    print('Площадь круга: ')\n",
    "    print(S_krug)\n",
    "    \n",
    "elif figure == 'Треугольник':\n",
    "    st_1 = int(input('Введите длину стороны 1: '))\n",
    "    st_2 = int(input('Ведите длину стороны 2: '))\n",
    "    st_3 = int(input('Введите длину стороны 3: '))\n",
    "    p = (st_1 + st_1 + st_1) / 2\n",
    "    S_treug = (p * (p - st_1) * (p - st_2) * (p - st_3)) ** (1/2)\n",
    "    print('Площадь треугольника: ')\n",
    "    print(S_treug)\n",
    "\n",
    "else:\n",
    "    print(\"Фигура введена неверно\")\n",
    "    "
   ]
  }
 ],
 "metadata": {
  "kernelspec": {
   "display_name": "Python 3",
   "language": "python",
   "name": "python3"
  },
  "language_info": {
   "codemirror_mode": {
    "name": "ipython",
    "version": 3
   },
   "file_extension": ".py",
   "mimetype": "text/x-python",
   "name": "python",
   "nbconvert_exporter": "python",
   "pygments_lexer": "ipython3",
   "version": "3.8.5"
  }
 },
 "nbformat": 4,
 "nbformat_minor": 4
}
