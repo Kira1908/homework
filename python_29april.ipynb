{
 "cells": [
  {
   "cell_type": "code",
   "execution_count": 4,
   "metadata": {},
   "outputs": [
    {
     "name": "stdout",
     "output_type": "stream",
     "text": [
      "Фраза 1 длинее фразы 2\n"
     ]
    }
   ],
   "source": [
    "phrase_1 = 'Насколько проще было бы писать программы, если бы не заказчики'\n",
    "phrase_2 = '640Кб должно хватить для любых задач. Билл Гейтс (по легенде)'\n",
    "if len(phrase_2) < len(phrase_1):\n",
    "    print('Фраза 1 длинее фразы 2')"
   ]
  },
  {
   "cell_type": "code",
   "execution_count": 5,
   "metadata": {},
   "outputs": [
    {
     "name": "stdout",
     "output_type": "stream",
     "text": [
      "високосный год\n"
     ]
    }
   ],
   "source": [
    "year=2020\n",
    "if year%4==0:\n",
    "    print('високосный год')\n",
    "else:\n",
    "    print('обычный год')"
   ]
  },
  {
   "cell_type": "code",
   "execution_count": 6,
   "metadata": {},
   "outputs": [
    {
     "name": "stdout",
     "output_type": "stream",
     "text": [
      "обычный год\n"
     ]
    }
   ],
   "source": [
    "year=2019\n",
    "if year%4==0:\n",
    "    print('високосный год')\n",
    "else:\n",
    "    print('обычный год')"
   ]
  },
  {
   "cell_type": "code",
   "execution_count": 5,
   "metadata": {},
   "outputs": [
    {
     "name": "stdout",
     "output_type": "stream",
     "text": [
      "Box for ski\n"
     ]
    }
   ],
   "source": [
    "width = 10\n",
    "length = 205\n",
    "height = 5\n",
    "if width < 15 and length < 15 and height < 15:\n",
    "    print('Box 1')\n",
    "elif width < 50 and width > 15:\n",
    "    print ('Box 2')\n",
    "elif length < 50 and length > 15:\n",
    "    print ('Box 2')\n",
    "elif height < 50 and height > 15:\n",
    "    print ('Box 2')\n",
    "elif length > 200:\n",
    "    print('Box for ski')\n",
    "else:\n",
    "    print ('Standard box')"
   ]
  },
  {
   "cell_type": "code",
   "execution_count": null,
   "metadata": {},
   "outputs": [],
   "source": []
  }
 ],
 "metadata": {
  "kernelspec": {
   "display_name": "Python 3",
   "language": "python",
   "name": "python3"
  },
  "language_info": {
   "codemirror_mode": {
    "name": "ipython",
    "version": 3
   },
   "file_extension": ".py",
   "mimetype": "text/x-python",
   "name": "python",
   "nbconvert_exporter": "python",
   "pygments_lexer": "ipython3",
   "version": "3.8.5"
  }
 },
 "nbformat": 4,
 "nbformat_minor": 4
}
