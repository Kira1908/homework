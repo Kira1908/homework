{
 "cells": [
  {
   "cell_type": "code",
   "execution_count": 17,
   "metadata": {},
   "outputs": [
    {
     "name": "stdout",
     "output_type": "stream",
     "text": [
      "{98, 35, 15, 213, 54, 119}\n"
     ]
    }
   ],
   "source": [
    "ids = {'user1': [213, 213, 213, 15, 213],\n",
    "      'user2': [54, 54, 119, 119, 119],\n",
    "      'user3': [98, 35, 15, 213, 54, 119]}\n",
    "\n",
    "# print(ids.values())\n",
    "\n",
    "baza = []\n",
    "\n",
    "for i in ids.values():\n",
    "    for number in i:\n",
    "        baza.append(number)\n",
    "        \n",
    "print(set(baza))"
   ]
  },
  {
   "cell_type": "code",
   "execution_count": 25,
   "metadata": {},
   "outputs": [
    {
     "name": "stdout",
     "output_type": "stream",
     "text": [
      "Поисковых запросов, содержащих 2 слов(а): 42.86%\n",
      "Поисковых запросов, содержащих 3 слов(а): 57.14%\n"
     ]
    }
   ],
   "source": [
    "queries = [\n",
    "'смотреть сериалы онлайн',\n",
    "'новости спорта',\n",
    "'афиша кино',\n",
    "'курс доллара',\n",
    "'сериалы этим летом',\n",
    "'курс по питону',\n",
    "'сериалы про спорт',\n",
    "]\n",
    "\n",
    "all_keys = []\n",
    "fractions = []\n",
    "\n",
    "for el in queries:\n",
    "    dlina = len(el.split(' '))\n",
    "    all_keys.append(dlina)\n",
    "\n",
    "uniq_keys = list(set(all_keys))\n",
    "\n",
    "for i in uniq_keys:\n",
    "    fraction = round(all_keys.count(i) / len(queries) * 100, 2)\n",
    "    fractions.append(fraction)\n",
    "    \n",
    "result = dict(zip(uniq_keys, fractions))\n",
    "              \n",
    "for key, value in result.items():\n",
    "              print(f'Поисковых запросов, содержащих {key} слов(а): {value}%')"
   ]
  },
  {
   "cell_type": "code",
   "execution_count": 18,
   "metadata": {},
   "outputs": [
    {
     "name": "stdout",
     "output_type": "stream",
     "text": [
      "vk {'revenue': 103, 'cost': 98, 'ROI': 5.1}\n",
      "yandex {'revenue': 179, 'cost': 153, 'ROI': 16.99}\n",
      "facebook {'revenue': 103, 'cost': 110, 'ROI': -6.36}\n",
      "adwords {'revenue': 35, 'cost': 34, 'ROI': 2.94}\n",
      "twitter {'revenue': 11, 'cost': 24, 'ROI': -54.17}\n"
     ]
    }
   ],
   "source": [
    "results = {\n",
    "'vk': {'revenue': 103, 'cost': 98},\n",
    "'yandex': {'revenue': 179, 'cost': 153},\n",
    "'facebook': {'revenue': 103, 'cost': 110},\n",
    "'adwords': {'revenue': 35, 'cost': 34},\n",
    "'twitter': {'revenue': 11, 'cost': 24},\n",
    "}\n",
    "\n",
    "#ROI = (revenue / cost - 1) * 100\n",
    "\n",
    "for key, value in results.items():\n",
    "    value['ROI'] = round(((value['revenue'] / value['cost']) - 1) * 100, 2)\n",
    "    print(key, value)"
   ]
  },
  {
   "cell_type": "code",
   "execution_count": 19,
   "metadata": {},
   "outputs": [
    {
     "name": "stdout",
     "output_type": "stream",
     "text": [
      "Максимальный объем продаж в канале: vk\n"
     ]
    }
   ],
   "source": [
    "stats = {'facebook': 55, \n",
    "         'yandex': 115, \n",
    "         'vk': 120, \n",
    "         'google': 99, \n",
    "         'email': 42, \n",
    "         'ok': 98}\n",
    "\n",
    "sales = list(stats.values())\n",
    "max_sales = max(stats.values())\n",
    "index_max = sales.index(max_sales)\n",
    "\n",
    "nets = list(stats.keys())\n",
    "max_net = nets[index_max]\n",
    "\n",
    "print(f'Максимальный объем продаж в канале: {max_net}')"
   ]
  },
  {
   "cell_type": "code",
   "execution_count": 26,
   "metadata": {},
   "outputs": [
    {
     "name": "stdout",
     "output_type": "stream",
     "text": [
      "{'a': {'b': {'c': {'d': {'e': 'f'}}}}}\n"
     ]
    }
   ],
   "source": [
    "my_list = ['a', 'b', 'c', 'd', 'e', 'f']\n",
    "\n",
    "dict_level = {my_list[-2]: my_list[-1]}\n",
    "\n",
    "for i in my_list[:-2][::-1]:\n",
    "    dict_level = {i: dict_level}\n",
    "\n",
    "print(dict_level)"
   ]
  }
 ],
 "metadata": {
  "kernelspec": {
   "display_name": "Python 3",
   "language": "python",
   "name": "python3"
  },
  "language_info": {
   "codemirror_mode": {
    "name": "ipython",
    "version": 3
   },
   "file_extension": ".py",
   "mimetype": "text/x-python",
   "name": "python",
   "nbconvert_exporter": "python",
   "pygments_lexer": "ipython3",
   "version": "3.8.5"
  }
 },
 "nbformat": 4,
 "nbformat_minor": 4
}
