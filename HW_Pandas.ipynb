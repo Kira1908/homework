{
 "cells": [
  {
   "cell_type": "code",
   "execution_count": 117,
   "metadata": {},
   "outputs": [
    {
     "name": "stdout",
     "output_type": "stream",
     "text": [
      "Фильму Shawshank Redemption, The (1994) выставлено больше всего оценок 5.0\n"
     ]
    }
   ],
   "source": [
    "# Задание 1\n",
    "# Скачайте с сайта grouplens.org...movielens/ датасет любого размера. \n",
    "# Определите какому фильму было выставлено больше всего оценок 5.0.\n",
    "\n",
    "import pandas as pd\n",
    "\n",
    "# Находим ID лучшего фильма\n",
    "rate = pd.read_csv('rating_for_hw_pandas.csv')\n",
    "rate_5 = rate[(rate['rating'] == 5)]\n",
    "best_movieID = rate_5['movieId'].value_counts().idxmax()\n",
    "\n",
    "# По номеру ID находим название фильма\n",
    "list_movies = pd.read_csv('movies_for_hw_pandas.csv')\n",
    "name_movies = list_movies[(list_movies['movieId'] == best_movieID)]['title'].values[0]\n",
    "\n",
    "print(f'Фильму {name_movies} выставлено больше всего оценок 5.0')"
   ]
  },
  {
   "cell_type": "code",
   "execution_count": 98,
   "metadata": {},
   "outputs": [
    {
     "data": {
      "text/plain": [
       "240580.0"
      ]
     },
     "execution_count": 98,
     "metadata": {},
     "output_type": "execute_result"
    }
   ],
   "source": [
    "# Задание 2\n",
    "# По данным файла power.csv посчитайте суммарное потребление стран Прибалтики (Латвия, Литва и Эстония) \n",
    "# категорий 4, 12 и 21 за период с 2005 по 2010 года. Не учитывайте в расчетах отрицательные значения quantity.\n",
    "\n",
    "import pandas as pd\n",
    "\n",
    "data = pd.read_csv('power.csv')\n",
    "\n",
    "filtered_data = data[((data['country'] == 'Latvia') | (data['country'] == 'Lithuania') | (data['country'] == 'Estonia')) &\n",
    "                     ((data['category'] == 4) | (data['category'] == 12) | (data['category'] == 21)) &\n",
    "                    (data['quantity'] >= 0) & (data['year'] <= 2010) & ( data['year'] >= 2005)]\n",
    " \n",
    "sum_quantity = filtered_data['quantity'].sum()\n",
    "sum_quantity"
   ]
  },
  {
   "cell_type": "code",
   "execution_count": 124,
   "metadata": {},
   "outputs": [
    {
     "name": "stdout",
     "output_type": "stream",
     "text": [
      "                 0           1           2\n",
      "0           валюта  23.06.2021  24.06.2021\n",
      "1  Доллар США  USD      731661      726671\n",
      "2        Евро  EUR      870677      867137\n",
      "\n",
      "                 0           1           2\n",
      "0  рублей за грамм  23.06.2021  24.06.2021\n",
      "1       Золото  Au    4 185,05    4 165,39\n",
      "2      Серебро  Ag        6109        6062\n",
      "3      Платина  Pt    2 493,48    2 537,22\n",
      "4     Палладий  Pd    6 064,34    6 072,04\n",
      "\n",
      "                               0         1         2          3\n",
      "0                      % годовых    1 день  2-7 дней  8-30 дней\n",
      "1          MIACR  за  22.06.2021       520         —          —\n",
      "2         RUONIA  за  22.06.2021       518       NaN        NaN\n",
      "3                      % годовых    1 день  1 неделя    1 месяц\n",
      "4  MosPrime Rate  на  23.06.2021       548       567        578\n",
      "5                      % годовых  1 неделя  2 недели    1 месяц\n",
      "6        ROISfix  на  23.06.2021       525       530        536\n",
      "\n",
      "                0       1\n",
      "0  млрд долл. США     NaN\n",
      "1      11.06.2021  6048.0\n",
      "\n",
      "                                                   0         1\n",
      "0                                          млрд руб.       NaN\n",
      "1  Структурный дефицит/профицит ликвидности банко...  -1 187,6\n",
      "2  Сведения об остатках средств на корреспондентс...       NaN\n",
      "3            по Российской Федерации  на  23.06.2021   3 551,5\n",
      "4             по Московскому региону  на  23.06.2021   3 365,8\n",
      "5  Объем предоставленных внутридневных кредитов  ...      1988\n",
      "6     Депозиты банков в Банке России  на  23.06.2021   1 078,2\n",
      "7                    ОБР в обращении  на  23.06.2021      6170\n",
      "8  Сальдо операций Банка России по предоставлению...      -789\n",
      "\n",
      "                                             0          1\n",
      "0                                     млн руб.        NaN\n",
      "1         По кредитам овернайт  на  23.06.2021         00\n",
      "2       По ломбардным кредитам  на  23.06.2021         00\n",
      "3            По операциям РЕПО  на  23.06.2021        NaN\n",
      "4                         на аукционной основе  153 719,5\n",
      "5                      по фиксированной ставке    8 784,8\n",
      "6   По сделкам «валютный своп»  на  23.06.2021         00\n",
      "7  По кредитам без обеспечения  на  31.12.2010         00\n",
      "8           По другим кредитам  на  23.06.2021  345 170,0\n",
      "\n"
     ]
    }
   ],
   "source": [
    "# Задание 3\n",
    "# Выберите страницу любого сайта с табличными данными. Импортируйте таблицы в pandas dataframe.\n",
    "# Примеры страниц (необязательно брать именно эти):\n",
    "# https://fortrader.org/quotes\n",
    "# www.finanz.ru...om-vremeni\n",
    "\n",
    "import pandas as pd\n",
    "\n",
    "df = pd.read_html('https://www.cbr.ru/key-indicators/', encoding = 'utf-8')\n",
    "for i in df:\n",
    "    print(i)\n",
    "    print()"
   ]
  }
 ],
 "metadata": {
  "kernelspec": {
   "display_name": "Python 3",
   "language": "python",
   "name": "python3"
  },
  "language_info": {
   "codemirror_mode": {
    "name": "ipython",
    "version": 3
   },
   "file_extension": ".py",
   "mimetype": "text/x-python",
   "name": "python",
   "nbconvert_exporter": "python",
   "pygments_lexer": "ipython3",
   "version": "3.8.5"
  }
 },
 "nbformat": 4,
 "nbformat_minor": 4
}
